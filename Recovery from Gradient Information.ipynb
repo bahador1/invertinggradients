{
 "cells": [
  {
   "cell_type": "code",
   "execution_count": 2,
   "metadata": {},
   "outputs": [],
   "source": [
    "import torch\n",
    "import numpy as np\n",
    "import matplotlib.pyplot as plt\n",
    "from collections import defaultdict\n",
    "from PIL import Image"
   ]
  },
  {
   "cell_type": "markdown",
   "metadata": {},
   "source": [
    "# Choose variants here:"
   ]
  },
  {
   "cell_type": "code",
   "execution_count": 3,
   "metadata": {},
   "outputs": [],
   "source": [
    "arch = 'ConvNet64'\n",
    "num_images = 1\n",
    "trained_model = False"
   ]
  },
  {
   "cell_type": "markdown",
   "metadata": {},
   "source": [
    "## System setup:"
   ]
  },
  {
   "cell_type": "code",
   "execution_count": 4,
   "metadata": {},
   "outputs": [
    {
     "name": "stdout",
     "output_type": "stream",
     "text": [
      "Currently evaluating -------------------------------:\n",
      "Monday, 20. October 2025 10:09PM\n",
      "CPUs: 4, GPUs: 1 on bm1-System-Product-Name.\n",
      "GPU : NVIDIA GeForce GTX 1060 6GB\n",
      "Files already downloaded and verified\n",
      "Files already downloaded and verified\n",
      "Model initialized with random key 3391978895.\n"
     ]
    }
   ],
   "source": [
    "import inversefed\n",
    "setup = inversefed.utils.system_startup()\n",
    "defs = inversefed.training_strategy('conservative')\n",
    "loss_fn, trainloader, validloader =  inversefed.construct_dataloaders('CIFAR10', defs, shuffle = False)\n",
    "model, _ =                           inversefed.construct_model(arch, num_classes=10, num_channels=3)\n",
    "model.to(**setup);"
   ]
  },
  {
   "cell_type": "code",
   "execution_count": 5,
   "metadata": {},
   "outputs": [],
   "source": [
    "##trained_model is false so fuck it. \n",
    "# if trained_model:\n",
    "#     epochs = 120\n",
    "#     file = f'{arch}_{epochs}.pth'\n",
    "#     try:\n",
    "#         model.load_state_dict(torch.load(f'models/{file}'))\n",
    "#     except FileNotFoundError:\n",
    "#         print(\"we should train our model\")\n",
    "#         inversefed.train(model, loss_fn, trainloader, validloader, defs, setup=setup)\n",
    "#         torch.save(model.state_dict(), f'models/{file}')\n",
    "model.eval();"
   ]
  },
  {
   "cell_type": "code",
   "execution_count": 6,
   "metadata": {},
   "outputs": [],
   "source": [
    "# dm = torch.as_tensor(inversefed.consts.cifar10_mean, **setup)[:, None, None]\n",
    "# ds = torch.as_tensor(inversefed.consts.cifar10_std, **setup)[:, None, None]\n",
    "dm = torch.as_tensor(inversefed.consts.cifar10_mean, **setup).reshape(-1, 1,1)\n",
    "ds = torch.as_tensor(inversefed.consts.cifar10_std, **setup).reshape(-1,1,1)\n",
    "\n",
    "def plot(tensor):\n",
    "    tensor = tensor.clone().detach()\n",
    "    tensor.mul_(ds).add_(dm).clamp_(0, 1)\n",
    "    if tensor.shape[0] == 1:\n",
    "        return plt.imshow(tensor[0].permute(1, 2, 0).cpu());\n",
    "    else:\n",
    "        fig, axes = plt.subplots(1, tensor.shape[0], figsize=(12, tensor.shape[0]*12))\n",
    "        for i, im in enumerate(tensor):\n",
    "            axes[i].imshow(im.permute(1, 2, 0).cpu());"
   ]
  },
  {
   "cell_type": "markdown",
   "metadata": {},
   "source": [
    "# Reconstruct"
   ]
  },
  {
   "cell_type": "markdown",
   "metadata": {},
   "source": [
    "### Build the input (ground-truth) gradient"
   ]
  },
  {
   "cell_type": "code",
   "execution_count": 7,
   "metadata": {},
   "outputs": [],
   "source": [
    "if num_images == 1:\n",
    "    ground_truth_image = torch.as_tensor(np.array(Image.open(\"auto.jpg\").resize((32, 32), Image.BICUBIC)) / 255, \n",
    "                                         **setup)\n",
    "    \n",
    "    ground_truth = ground_truth_image.permute(2, 0, 1).sub(dm).div(ds).unsqueeze(0).contiguous()\n",
    "    labels = torch.as_tensor((1,), device=setup['device'])\n",
    "    \n",
    "# # else:\n",
    "# #     ground_truth, labels = [], []\n",
    "# #     idx = 25 # choosen randomly ... just whatever you want\n",
    "# #     while len(labels) < num_images:\n",
    "# #         img, label = validloader.dataset[idx]\n",
    "# #         idx += 1\n",
    "# #         if label not in labels:\n",
    "# #             labels.append(torch.as_tensor((label,), device=setup['device']))\n",
    "# #             ground_truth.append(img.to(**setup))\n",
    "# #     ground_truth = torch.stack(ground_truth)\n",
    "# #     labels = torch.cat(labels)\n",
    "\n",
    "\n",
    "\n",
    "\n",
    "# # use the cifar10 itself\n",
    "# print(ground_truth_image.shape)\n",
    "# print(ground_truth_image.dtype)\n",
    "# print(f\"range from {ground_truth_image.min()} to the {ground_truth_image.max()}\")\n",
    "\n",
    "# print()\n",
    "# # use the cifar10 itself\n",
    "# print(ground_truth.shape)\n",
    "# print(ground_truth.dtype)\n",
    "# print(f\"range from {ground_truth.min()} to the {ground_truth.max()}\")"
   ]
  },
  {
   "cell_type": "code",
   "execution_count": 8,
   "metadata": {},
   "outputs": [
    {
     "data": {
      "text/plain": [
       "torch.Size([1, 3, 32, 32])"
      ]
     },
     "execution_count": 8,
     "metadata": {},
     "output_type": "execute_result"
    }
   ],
   "source": [
    "ground_truth.shape"
   ]
  },
  {
   "cell_type": "code",
   "execution_count": 11,
   "metadata": {},
   "outputs": [
    {
     "name": "stdout",
     "output_type": "stream",
     "text": [
      "['automobile']\n"
     ]
    },
    {
     "data": {
      "image/png": "[encoded data removed]",
      "text/plain": [
       "<Figure size 640x480 with 1 Axes>"
      ]
     },
     "metadata": {},
     "output_type": "display_data"
    }
   ],
   "source": [
    "plot(ground_truth);\n",
    "print([validloader.dataset.classes[l] for l in labels]);"
   ]
  },
  {
   "cell_type": "code",
   "execution_count": 9,
   "metadata": {},
   "outputs": [
    {
     "name": "stdout",
     "output_type": "stream",
     "text": [
      "torch.Size([1, 3, 32, 32])\n"
     ]
    }
   ],
   "source": [
    "print(ground_truth.shape)\n",
    "\n",
    "target_loss, _, _ = loss_fn(model(ground_truth), labels)\n"
   ]
  },
  {
   "cell_type": "code",
   "execution_count": null,
   "metadata": {},
   "outputs": [],
   "source": []
  },
  {
   "cell_type": "code",
   "execution_count": 35,
   "metadata": {},
   "outputs": [],
   "source": [
    "model.zero_grad()\n",
    "target_loss, _, _ = loss_fn(model(ground_truth), labels)\n",
    "input_gradient = torch.autograd.grad(target_loss, model.parameters())\n",
    "input_gradient = [grad.detach() for grad in input_gradient]"
   ]
  },
  {
   "cell_type": "code",
   "execution_count": 36,
   "metadata": {},
   "outputs": [
    {
     "name": "stdout",
     "output_type": "stream",
     "text": [
      "It: 0. Rec. loss: 0.0087.\n",
      "It: 500. Rec. loss: 0.0033.\n",
      "It: 1000. Rec. loss: 0.0034.\n",
      "It: 1500. Rec. loss: 0.0042.\n",
      "It: 2000. Rec. loss: 0.0031.\n",
      "It: 2500. Rec. loss: 0.0022.\n",
      "It: 3000. Rec. loss: 0.0028.\n",
      "It: 3500. Rec. loss: 0.0026.\n",
      "It: 3999. Rec. loss: 0.0025.\n",
      "Choosing optimal result ...\n",
      "Optimal result score: 0.0025\n",
      "Total time: 71.85921835899353.\n"
     ]
    },
    {
     "data": {
      "image/png": "[encoded data removed]",
      "text/plain": [
       "<Figure size 640x480 with 1 Axes>"
      ]
     },
     "metadata": {},
     "output_type": "display_data"
    }
   ],
   "source": [
    "config = dict(signed=True,\n",
    "              boxed=True,\n",
    "              cost_fn='sim',\n",
    "              indices='def',\n",
    "              weights='equal',\n",
    "              lr=0.1,\n",
    "              optim='adam',\n",
    "              restarts=1,\n",
    "              max_iterations=4000,\n",
    "              total_variation=1e-6,\n",
    "              init='randn',\n",
    "              filter='none',\n",
    "              lr_decay=True,\n",
    "              scoring_choice='loss')\n",
    "\n",
    "rec_machine = inversefed.GradientReconstructor(model, (dm, ds), config, num_images=num_images)\n",
    "output, stats = rec_machine.reconstruct(input_gradient, labels, img_shape=(3, 32, 32))\n",
    "\n",
    "test_mse = (output.detach() - ground_truth).pow(2).mean()\n",
    "feat_mse = (model(output.detach())- model(ground_truth)).pow(2).mean()  \n",
    "test_psnr = inversefed.metrics.psnr(output, ground_truth, factor=1/ds)\n",
    "\n",
    "plot(output)\n",
    "plt.title(f\"Rec. loss: {stats['opt']:2.4f} | MSE: {test_mse:2.4f} \"\n",
    "          f\"| PSNR: {test_psnr:4.2f} | FMSE: {feat_mse:2.4e} |\");"
   ]
  },
  {
   "cell_type": "code",
   "execution_count": null,
   "metadata": {},
   "outputs": [],
   "source": []
  },
  {
   "cell_type": "code",
   "execution_count": null,
   "metadata": {},
   "outputs": [],
   "source": [
    "data = inversefed.metrics.activation_errors(model, output, ground_truth)\n",
    "\n",
    "fig, axes = plt.subplots(2, 3, sharey=False, figsize=(14,8))\n",
    "axes[0, 0].semilogy(list(data['se'].values())[:-3])\n",
    "axes[0, 0].set_title('SE')\n",
    "axes[0, 1].semilogy(list(data['mse'].values())[:-3])\n",
    "axes[0, 1].set_title('MSE')\n",
    "axes[0, 2].plot(list(data['sim'].values())[:-3])\n",
    "axes[0, 2].set_title('Similarity')\n",
    "\n",
    "convs = [val for key, val in data['mse'].items() if 'conv' in key]\n",
    "axes[1, 0].semilogy(convs)\n",
    "axes[1, 0].set_title('MSE - conv layers')\n",
    "convs = [val for key, val in data['mse'].items() if 'conv1' in key]\n",
    "axes[1, 1].semilogy(convs)\n",
    "convs = [val for key, val in data['mse'].items() if 'conv2' in key]\n",
    "axes[1, 1].semilogy(convs)\n",
    "axes[1, 1].set_title('MSE - conv1 vs conv2 layers')\n",
    "bns = [val for key, val in data['mse'].items() if 'bn' in key]\n",
    "axes[1, 2].plot(bns)\n",
    "axes[1, 2].set_title('MSE - bn layers')\n",
    "fig.suptitle('Error between layers');"
   ]
  }
 ],
 "metadata": {
  "kernelspec": {
   "display_name": "I_GOS",
   "language": "python",
   "name": "python3"
  },
  "language_info": {
   "codemirror_mode": {
    "name": "ipython",
    "version": 3
   },
   "file_extension": ".py",
   "mimetype": "text/x-python",
   "name": "python",
   "nbconvert_exporter": "python",
   "pygments_lexer": "ipython3",
   "version": "3.7.12"
  }
 },
 "nbformat": 4,
 "nbformat_minor": 4
}
