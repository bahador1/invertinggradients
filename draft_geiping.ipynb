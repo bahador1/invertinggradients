{
 "cells": [
  {
   "cell_type": "code",
   "execution_count": 18,
   "id": "02b7a51b",
   "metadata": {},
   "outputs": [
    {
     "name": "stdout",
     "output_type": "stream",
     "text": [
      "Files already downloaded and verified\n"
     ]
    }
   ],
   "source": [
    "import torch\n",
    "import torchvision\n",
    "import torchvision.transforms as transforms\n",
    "import matplotlib.pyplot as plt\n",
    "import numpy as np\n",
    "\n",
    "# Define a transform to convert images to tensors and normalize them\n",
    "transform = transforms.Compose([\n",
    "    transforms.ToTensor()\n",
    "])\n",
    "\n",
    "# Load the CIFAR-10 training set\n",
    "trainset = torchvision.datasets.CIFAR10(root='~/data', train=True,\n",
    "                                        download=True, transform=transform)\n",
    "trainloader = torch.utils.data.DataLoader(trainset, batch_size=1,\n",
    "                                          shuffle=False)\n",
    "\n",
    "# Define class labels\n",
    "classes = ('plane', 'car', 'bird', 'cat', 'deer',\n",
    "           'dog', 'frog', 'horse', 'ship', 'truck')\n",
    "\n",
    "# Get one batch (the first image)\n",
    "dataiter = iter(trainloader)\n",
    "images, labels = next(dataiter)\n",
    "\n",
    "# imageoriginal_imgs = images.to(\"cuda\")\n",
    "# labels = labels.to(\"cuda\")"
   ]
  },
  {
   "cell_type": "code",
   "execution_count": 19,
   "id": "42e1fc20",
   "metadata": {},
   "outputs": [],
   "source": [
    "images =  images.squeeze().permute(1,2,0).cpu().numpy()"
   ]
  },
  {
   "cell_type": "code",
   "execution_count": 3,
   "id": "47ba3f85",
   "metadata": {},
   "outputs": [
    {
     "name": "stdout",
     "output_type": "stream",
     "text": [
      "Currently evaluating -------------------------------:\n",
      "Tuesday, 21. October 2025 09:11AM\n",
      "CPUs: 4, GPUs: 1 on bm1-System-Product-Name.\n",
      "GPU : NVIDIA GeForce GTX 1060 6GB\n"
     ]
    }
   ],
   "source": [
    "import inversefed\n",
    "setup = inversefed.utils.system_startup()\n",
    "\n",
    "dm = torch.as_tensor(inversefed.consts.cifar10_mean, **setup).reshape(-1, 1,1)\n",
    "ds = torch.as_tensor(inversefed.consts.cifar10_std, **setup).reshape(-1,1,1)\n",
    "\n",
    "def plot(tensor):\n",
    "    tensor = tensor.clone().detach()\n",
    "    tensor.mul_(ds).add_(dm).clamp_(0, 1)\n",
    "    if tensor.shape[0] == 1:\n",
    "        return plt.imshow(tensor[0].permute(1, 2, 0).cpu());\n",
    "    else:\n",
    "        fig, axes = plt.subplots(1, tensor.shape[0], figsize=(12, tensor.shape[0]*12))\n",
    "        for i, im in enumerate(tensor):\n",
    "            axes[i].imshow(im.permute(1, 2, 0).cpu());"
   ]
  },
  {
   "cell_type": "code",
   "execution_count": 4,
   "id": "a244b52d",
   "metadata": {},
   "outputs": [],
   "source": [
    "arch = 'ConvNet64'\n",
    "num_images = 1\n",
    "trained_model = False"
   ]
  },
  {
   "cell_type": "code",
   "execution_count": 5,
   "id": "cf8a93f7",
   "metadata": {},
   "outputs": [
    {
     "name": "stdout",
     "output_type": "stream",
     "text": [
      "Currently evaluating -------------------------------:\n",
      "Tuesday, 21. October 2025 09:11AM\n",
      "CPUs: 4, GPUs: 1 on bm1-System-Product-Name.\n",
      "GPU : NVIDIA GeForce GTX 1060 6GB\n",
      "Files already downloaded and verified\n",
      "Files already downloaded and verified\n",
      "Model initialized with random key 3618494113.\n"
     ]
    }
   ],
   "source": [
    "import inversefed\n",
    "setup = inversefed.utils.system_startup()\n",
    "defs = inversefed.training_strategy('conservative')\n",
    "loss_fn, _, _ =  inversefed.construct_dataloaders('CIFAR10', defs, shuffle = False)\n",
    "model, _ =                           inversefed.construct_model(arch, num_classes=10, num_channels=3)\n",
    "model.to(**setup);"
   ]
  },
  {
   "cell_type": "code",
   "execution_count": 6,
   "id": "eed37946",
   "metadata": {},
   "outputs": [],
   "source": [
    "model.eval();"
   ]
  },
  {
   "cell_type": "code",
   "execution_count": null,
   "id": "b29cb234",
   "metadata": {},
   "outputs": [],
   "source": [
    "ground_truth = images.sub(dm).div(ds).contiguous().to(**setup)"
   ]
  },
  {
   "cell_type": "code",
   "execution_count": 8,
   "id": "4e8df8fc",
   "metadata": {},
   "outputs": [],
   "source": [
    "model.zero_grad()\n",
    "target_loss, _, _ = loss_fn(model(ground_truth), labels)\n",
    "input_gradient = torch.autograd.grad(target_loss, model.parameters())\n",
    "input_gradient = [grad.detach() for grad in input_gradient]"
   ]
  },
  {
   "cell_type": "code",
   "execution_count": 143,
   "id": "0e6bdd54",
   "metadata": {},
   "outputs": [
    {
     "name": "stdout",
     "output_type": "stream",
     "text": [
      "It: 0. Rec. loss: 0.0074.\n",
      "It: 500. Rec. loss: 0.0014.\n",
      "It: 1000. Rec. loss: 0.0016.\n",
      "It: 1500. Rec. loss: 0.0018.\n",
      "It: 2000. Rec. loss: 0.0013.\n",
      "It: 2500. Rec. loss: 0.0010.\n",
      "It: 3000. Rec. loss: 0.0007.\n",
      "It: 3500. Rec. loss: 0.0008.\n",
      "It: 3999. Rec. loss: 0.0008.\n",
      "Choosing optimal result ...\n",
      "Optimal result score: 0.0008\n",
      "Total time: 72.19013166427612.\n"
     ]
    },
    {
     "data": {
      "image/png": "[encoded data removed]",
      "text/plain": [
       "<Figure size 640x480 with 1 Axes>"
      ]
     },
     "metadata": {},
     "output_type": "display_data"
    }
   ],
   "source": [
    "config = dict(signed=True,\n",
    "              boxed=True,\n",
    "              cost_fn='sim',\n",
    "              indices='def',\n",
    "              weights='equal',\n",
    "              lr=0.1,\n",
    "              optim='adam',\n",
    "              restarts=1,\n",
    "              max_iterations=4000,\n",
    "              total_variation=1e-6,\n",
    "              init='randn',\n",
    "              filter='none',\n",
    "              lr_decay=True,\n",
    "              scoring_choice='loss')\n",
    "\n",
    "rec_machine = inversefed.GradientReconstructor(model, (dm, ds), config, num_images=num_images)\n",
    "\n",
    "output, stats = rec_machine.reconstruct(input_gradient, labels, img_shape=(3, 32, 32))\n",
    "\n",
    "test_mse = (output.detach() - ground_truth).pow(2).mean()\n",
    "feat_mse = (model(output.detach())- model(ground_truth)).pow(2).mean()  \n",
    "test_psnr = inversefed.metrics.psnr(output, ground_truth, factor=1/ds)\n",
    "\n",
    "plot(output)\n",
    "plt.title(f\"Rec. loss: {stats['opt']:2.4f} | MSE: {test_mse:2.4f} \"\n",
    "          f\"| PSNR: {test_psnr:4.2f} | FMSE: {feat_mse:2.4e} |\");"
   ]
  },
  {
   "cell_type": "code",
   "execution_count": null,
   "id": "183e83a0",
   "metadata": {},
   "outputs": [],
   "source": []
  }
 ],
 "metadata": {
  "kernelspec": {
   "display_name": "I_GOS",
   "language": "python",
   "name": "python3"
  },
  "language_info": {
   "codemirror_mode": {
    "name": "ipython",
    "version": 3
   },
   "file_extension": ".py",
   "mimetype": "text/x-python",
   "name": "python",
   "nbconvert_exporter": "python",
   "pygments_lexer": "ipython3",
   "version": "3.7.12"
  }
 },
 "nbformat": 4,
 "nbformat_minor": 5
}
